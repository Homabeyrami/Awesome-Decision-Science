{
  "cells": [
    {
      "cell_type": "markdown",
      "metadata": {
        "id": "view-in-github",
        "colab_type": "text"
      },
      "source": [
        "<a href=\"https://colab.research.google.com/github/Homabeyrami/Awesome-Decision-Science/blob/main/DS02_Nai%CC%88ve_Bayes_02_from_scratch.ipynb\" target=\"_parent\"><img src=\"https://colab.research.google.com/assets/colab-badge.svg\" alt=\"Open In Colab\"/></a>"
      ]
    },
    {
      "cell_type": "markdown",
      "source": [
        "#NB from the scratch"
      ],
      "metadata": {
        "id": "hp93MA8jrQp3"
      }
    },
    {
      "cell_type": "markdown",
      "source": [
        "## Some important concepts in Python"
      ],
      "metadata": {
        "id": "exVpVOnHoCqe"
      }
    },
    {
      "cell_type": "code",
      "source": [
        "# prerequisite (enumerate, lambda, list comprehention)\n",
        "# enumerate\n",
        "for i in range(10):\n",
        "  print(i)\n",
        "\n",
        "mylist = [1, 2, 4, 8]\n",
        "for i in mylist:\n",
        "  print(i)\n",
        "\n",
        "for i in range(len(mylist)):\n",
        "  print(i)\n",
        "\n",
        "for i in range(len(mylist)):\n",
        "  print(i, \": \", mylist[i])\n",
        "\n",
        "#enumerate is an alternative\n",
        "for idx, val in enumerate(mylist): # enumerate = range + len + slicing\n",
        "  print(idx, \": \", val)"
      ],
      "metadata": {
        "id": "VkTKscDJkJRR",
        "colab": {
          "base_uri": "https://localhost:8080/"
        },
        "outputId": "11cc7733-e509-4593-a941-a6725f54b52e"
      },
      "execution_count": 1,
      "outputs": [
        {
          "output_type": "stream",
          "name": "stdout",
          "text": [
            "0\n",
            "1\n",
            "2\n",
            "3\n",
            "4\n",
            "5\n",
            "6\n",
            "7\n",
            "8\n",
            "9\n",
            "1\n",
            "2\n",
            "4\n",
            "8\n",
            "0\n",
            "1\n",
            "2\n",
            "3\n",
            "0 :  1\n",
            "1 :  2\n",
            "2 :  4\n",
            "3 :  8\n",
            "0 :  1\n",
            "1 :  2\n",
            "2 :  4\n",
            "3 :  8\n"
          ]
        }
      ]
    },
    {
      "cell_type": "code",
      "source": [
        "# 2. lambda function\n",
        "def square_if_even(x):\n",
        "  if x % 2 == 0:\n",
        "    return x**2\n",
        "  else:\n",
        "    return x\n",
        "\n",
        "square_if_even(5)\n",
        "square_if_even(4)"
      ],
      "metadata": {
        "colab": {
          "base_uri": "https://localhost:8080/"
        },
        "id": "or6w3Ysdl1LT",
        "outputId": "b4044854-bcd9-42e4-8d7e-5eddc4fede08"
      },
      "execution_count": 2,
      "outputs": [
        {
          "output_type": "execute_result",
          "data": {
            "text/plain": [
              "16"
            ]
          },
          "metadata": {},
          "execution_count": 2
        }
      ]
    },
    {
      "cell_type": "code",
      "source": [
        "square = lambda x, y: (x+y)**2\n",
        "square(5, 2)"
      ],
      "metadata": {
        "colab": {
          "base_uri": "https://localhost:8080/"
        },
        "id": "WbRb9QadmaSr",
        "outputId": "c2a25793-bb8a-42cc-ae93-65b0f733c7b7"
      },
      "execution_count": 3,
      "outputs": [
        {
          "output_type": "execute_result",
          "data": {
            "text/plain": [
              "49"
            ]
          },
          "metadata": {},
          "execution_count": 3
        }
      ]
    },
    {
      "cell_type": "code",
      "source": [
        "even_square = lambda x: x**2 if x%2==0 else x\n",
        "\n",
        "print(even_square(5))\n",
        "print(even_square(4))"
      ],
      "metadata": {
        "colab": {
          "base_uri": "https://localhost:8080/"
        },
        "id": "u8X5fJd8mmdx",
        "outputId": "62c9c0f0-b498-4959-8ec6-72644af9e475"
      },
      "execution_count": 4,
      "outputs": [
        {
          "output_type": "stream",
          "name": "stdout",
          "text": [
            "5\n",
            "16\n"
          ]
        }
      ]
    },
    {
      "cell_type": "code",
      "source": [
        "# 3. list comprehention\n",
        "mystring = []\n",
        "for i in range(10):\n",
        "  mystring.append(i)\n",
        "\n",
        "\n",
        "print(mystring)"
      ],
      "metadata": {
        "colab": {
          "base_uri": "https://localhost:8080/"
        },
        "id": "aOZPX3i8nYZa",
        "outputId": "83cfc51a-5d4e-492d-b894-c7bdb4030862"
      },
      "execution_count": 5,
      "outputs": [
        {
          "output_type": "stream",
          "name": "stdout",
          "text": [
            "[0, 1, 2, 3, 4, 5, 6, 7, 8, 9]\n"
          ]
        }
      ]
    },
    {
      "cell_type": "code",
      "source": [
        "mylistcom = [i for i in range(10)]\n",
        "print(mylistcom)"
      ],
      "metadata": {
        "colab": {
          "base_uri": "https://localhost:8080/"
        },
        "id": "FNytnqaYny3t",
        "outputId": "58b68e0f-71e9-41c7-828c-3f1d65c3f705"
      },
      "execution_count": 6,
      "outputs": [
        {
          "output_type": "stream",
          "name": "stdout",
          "text": [
            "[0, 1, 2, 3, 4, 5, 6, 7, 8, 9]\n"
          ]
        }
      ]
    },
    {
      "cell_type": "markdown",
      "source": [
        "## Naive Bayes from scratch"
      ],
      "metadata": {
        "id": "Jv4Q9YXgoHiv"
      }
    },
    {
      "cell_type": "code",
      "source": [
        "import numpy as np\n",
        "\n",
        "# camel case: guassianNiaveBayes\n",
        "# capitalize: GuassianNaiveBayes ---> class\n",
        "# underline: guassian_naive_bayes ---> function\n",
        "\n",
        "class GaussianNaiveBayes:\n",
        "  # fit\n",
        "  def fit(self, X, y):\n",
        "    n_smaple, n_feature = X.shape\n",
        "    self._classes = np.unique(y)\n",
        "    n_classes = len(self._classes)\n",
        "    self._mean = np.zeros((n_classes, n_feature), dtype=np.float32)\n",
        "    self._var = np.zeros((n_classes, n_feature), dtype=np.float32)\n",
        "    self._prior = np.zeros(n_classes, dtype=np.float32)\n",
        "\n",
        "  # calculating mean, variance, and prior\n",
        "    for i, c in enumerate(self._classes):\n",
        "      X_for_class_c = X[y==c]\n",
        "      self._mean[i, :] = X_for_class_c.mean(axis=0)\n",
        "      self._var[i, :] = X_for_class_c.var(axis=0)\n",
        "      self._prior[i] = X_for_class_c.shape[0] / float(n_smaple)\n",
        "\n",
        "  # calculating likelihood\n",
        "  def likelihood(self, class_idx, x):\n",
        "    mean = self._mean[class_idx]\n",
        "    var = self._var[class_idx]\n",
        "    num = np.exp(-(x-mean)**2 / 2*var) # numerator\n",
        "    denom = np.sqrt(2 * np.pi * var) # denominator\n",
        "    return num / denom\n",
        "\n",
        "  # prediction method\n",
        "  def predict(self, X):\n",
        "    y_pred = [self._classify_sample(x) for x in X]\n",
        "    return np.array(y_pred)\n",
        "\n",
        "  # classification pahse\n",
        "  def _classify_sample(self, x):\n",
        "    posteriors = []\n",
        "\n",
        "    for i, c in enumerate(self._classes):\n",
        "      pri = np.log(self._prior[i])\n",
        "      post = np.sum(np.log(self.likelihood(i, x)))\n",
        "      posterior = pri + post\n",
        "      posteriors.append(posterior)\n",
        "\n",
        "    return self._classes[np.argmax(posteriors)]"
      ],
      "metadata": {
        "id": "S-x6vttpoMW8"
      },
      "execution_count": 7,
      "outputs": []
    },
    {
      "cell_type": "code",
      "source": [
        "# imports\n",
        "from sklearn.datasets import make_classification\n",
        "from sklearn.model_selection import train_test_split\n",
        "from sklearn.metrics import accuracy_score\n",
        "from sklearn.naive_bayes import GaussianNB\n",
        "import time"
      ],
      "metadata": {
        "id": "VLZTADDGbmxl"
      },
      "execution_count": 8,
      "outputs": []
    },
    {
      "cell_type": "code",
      "source": [
        "import random\n",
        "# load (synthesize) data\n",
        "X, y = make_classification(n_samples=100000, n_features=20, n_classes=2, random_state=42)\n",
        "X_train, X_test, y_train, y_test = train_test_split(X, y, random_state=42, test_size=0.25)"
      ],
      "metadata": {
        "id": "bJPtwoUtb_sq"
      },
      "execution_count": 9,
      "outputs": []
    },
    {
      "cell_type": "code",
      "source": [
        "start_time = time.perf_counter()\n",
        "gnb = GaussianNaiveBayes()\n",
        "#train phase\n",
        "gnb.fit(X_train, y_train)\n",
        "y_pred = gnb.predict(X_test)\n",
        "\n",
        "end_time = time.perf_counter()\n",
        "print(f'duration of the manual model was: {end_time-start_time}')\n",
        "print(f'acc for manual model was: {accuracy_score(y_test, y_pred)}')"
      ],
      "metadata": {
        "colab": {
          "base_uri": "https://localhost:8080/"
        },
        "id": "oEn73EZdaPSl",
        "outputId": "d4859da2-a52f-4c14-96ec-2272ee7818fd"
      },
      "execution_count": null,
      "outputs": [
        {
          "output_type": "stream",
          "name": "stdout",
          "text": [
            "duration of the manual model was: 1.559659996999926\n",
            "acc for manual model was: 0.8572\n"
          ]
        }
      ]
    },
    {
      "cell_type": "code",
      "source": [
        "start_time = time.perf_counter()\n",
        "sk_gnb = GaussianNB()\n",
        "#train phase\n",
        "sk_gnb.fit(X_train, y_train)\n",
        "y_pred = sk_gnb.predict(X_test)\n",
        "accuracy_score(y_test, y_pred)\n",
        "\n",
        "end_time = time.perf_counter()\n",
        "print(f'duration of the manual model was: {end_time-start_time}')\n",
        "print(f'acc for manual model was: {accuracy_score(y_test, y_pred)}')"
      ],
      "metadata": {
        "colab": {
          "base_uri": "https://localhost:8080/"
        },
        "id": "caH2PhbndEMD",
        "outputId": "b798af94-5f25-4c55-90c8-24f6cc88e965"
      },
      "execution_count": null,
      "outputs": [
        {
          "output_type": "stream",
          "name": "stdout",
          "text": [
            "duration of the manual model was: 0.052607327999794506\n",
            "acc for manual model was: 0.85908\n"
          ]
        }
      ]
    }
  ],
  "metadata": {
    "colab": {
      "provenance": [],
      "include_colab_link": true
    },
    "kernelspec": {
      "display_name": "Python 3",
      "name": "python3"
    }
  },
  "nbformat": 4,
  "nbformat_minor": 0
}